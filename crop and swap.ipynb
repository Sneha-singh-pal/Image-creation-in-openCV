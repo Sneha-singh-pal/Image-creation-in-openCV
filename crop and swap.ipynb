{
 "cells": [
  {
   "cell_type": "code",
   "execution_count": 15,
   "id": "b416230f",
   "metadata": {},
   "outputs": [],
   "source": [
    "import cv2"
   ]
  },
  {
   "cell_type": "code",
   "execution_count": 16,
   "id": "bcb6d503",
   "metadata": {},
   "outputs": [],
   "source": [
    "image1=cv2.imread(\"image1.png\")"
   ]
  },
  {
   "cell_type": "code",
   "execution_count": 17,
   "id": "6b0566ff",
   "metadata": {},
   "outputs": [
    {
     "data": {
      "text/plain": [
       "(512, 307, 3)"
      ]
     },
     "execution_count": 17,
     "metadata": {},
     "output_type": "execute_result"
    }
   ],
   "source": [
    "image1.shape"
   ]
  },
  {
   "cell_type": "code",
   "execution_count": 18,
   "id": "9ee24abe",
   "metadata": {},
   "outputs": [],
   "source": [
    "image2 = cv2.imread(\"image2.jpeg\")"
   ]
  },
  {
   "cell_type": "code",
   "execution_count": 19,
   "id": "38d2369d",
   "metadata": {},
   "outputs": [
    {
     "data": {
      "text/plain": [
       "(416, 277, 3)"
      ]
     },
     "execution_count": 19,
     "metadata": {},
     "output_type": "execute_result"
    }
   ],
   "source": [
    "image2.shape"
   ]
  },
  {
   "cell_type": "code",
   "execution_count": 20,
   "id": "dd955096",
   "metadata": {},
   "outputs": [],
   "source": [
    "cv2.imshow(\"BABY1\",image1)\n",
    "cv2.imshow(\"BABY2\",image2)\n",
    "cv2.waitKey()\n",
    "cv2.destroyAllWindows()"
   ]
  },
  {
   "cell_type": "code",
   "execution_count": 21,
   "id": "d8d33c47",
   "metadata": {},
   "outputs": [],
   "source": [
    "crop_image1 = image1[50:250,100:250]\n",
    "image2[50:250,100:250] = crop_image1\n",
    "cv2.imshow(\"swaping\",image2)\n",
    "cv2.waitKey()\n",
    "cv2.destroyAllWindows()"
   ]
  },
  {
   "cell_type": "code",
   "execution_count": null,
   "id": "654b3ab0",
   "metadata": {},
   "outputs": [],
   "source": []
  },
  {
   "cell_type": "code",
   "execution_count": null,
   "id": "b8c9d475",
   "metadata": {},
   "outputs": [],
   "source": []
  }
 ],
 "metadata": {
  "kernelspec": {
   "display_name": "Python 3",
   "language": "python",
   "name": "python3"
  },
  "language_info": {
   "codemirror_mode": {
    "name": "ipython",
    "version": 3
   },
   "file_extension": ".py",
   "mimetype": "text/x-python",
   "name": "python",
   "nbconvert_exporter": "python",
   "pygments_lexer": "ipython3",
   "version": "3.8.8"
  }
 },
 "nbformat": 4,
 "nbformat_minor": 5
}
