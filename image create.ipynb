{
 "cells": [
  {
   "cell_type": "code",
   "execution_count": 18,
   "id": "cffd0f5a",
   "metadata": {},
   "outputs": [],
   "source": [
    "import cv2"
   ]
  },
  {
   "cell_type": "code",
   "execution_count": 19,
   "id": "40aca16e",
   "metadata": {},
   "outputs": [],
   "source": [
    "import numpy as np"
   ]
  },
  {
   "cell_type": "code",
   "execution_count": 20,
   "id": "55eeacdc",
   "metadata": {},
   "outputs": [],
   "source": [
    "photo = np.zeros((600,600,3))"
   ]
  },
  {
   "cell_type": "code",
   "execution_count": 21,
   "id": "7f52786f",
   "metadata": {},
   "outputs": [],
   "source": [
    "photo[30:570,30:570,] = [255,0,0]\n",
    "photo[60:540,60:540] = [0,0,0]\n",
    "photo[65:535,65:535] = [0,0,255]\n",
    "photo[95:505,95:505] = [0,0,0]\n",
    "photo[100:500,100:500] = [0,255,0]\n",
    "photo[130:475,130:475] = [0,0,0]\n",
    "photo[135:470,135:470] = [0,255,255]\n",
    "photo[165:440,165:440] = [0,0,0]\n",
    "photo[170:435,170:435] = [255,0,128]\n",
    "photo[200:400,200:400] = [0,0,0]\n",
    "photo[205:395,205:395] = [255,0,0]\n",
    "photo[235:365,235:365] = [0,0,0]\n",
    "photo[240:360,240:360] = [255,255,0]\n",
    "photo[270:330,270:330] = [0,0,0]\n",
    "photo[275:325,275:325] = [0,0,0]\n"
   ]
  },
  {
   "cell_type": "code",
   "execution_count": 22,
   "id": "d92d826f",
   "metadata": {},
   "outputs": [
    {
     "ename": "AttributeError",
     "evalue": "module 'cv2.cv2' has no attribute 'destroyAllWindow'",
     "output_type": "error",
     "traceback": [
      "\u001b[1;31m---------------------------------------------------------------------------\u001b[0m",
      "\u001b[1;31mAttributeError\u001b[0m                            Traceback (most recent call last)",
      "\u001b[1;32m<ipython-input-22-dd44f1b2d22b>\u001b[0m in \u001b[0;36m<module>\u001b[1;34m\u001b[0m\n\u001b[0;32m      1\u001b[0m \u001b[0mcv2\u001b[0m\u001b[1;33m.\u001b[0m\u001b[0mimshow\u001b[0m\u001b[1;33m(\u001b[0m\u001b[1;34m\"My Photo\"\u001b[0m\u001b[1;33m,\u001b[0m \u001b[0mphoto\u001b[0m\u001b[1;33m)\u001b[0m\u001b[1;33m\u001b[0m\u001b[1;33m\u001b[0m\u001b[0m\n\u001b[0;32m      2\u001b[0m \u001b[0mcv2\u001b[0m\u001b[1;33m.\u001b[0m\u001b[0mwaitKey\u001b[0m\u001b[1;33m(\u001b[0m\u001b[1;33m)\u001b[0m\u001b[1;33m\u001b[0m\u001b[1;33m\u001b[0m\u001b[0m\n\u001b[1;32m----> 3\u001b[1;33m \u001b[0mcv2\u001b[0m\u001b[1;33m.\u001b[0m\u001b[0mdestroyAllWindow\u001b[0m\u001b[1;33m(\u001b[0m\u001b[1;33m)\u001b[0m\u001b[1;33m\u001b[0m\u001b[1;33m\u001b[0m\u001b[0m\n\u001b[0m",
      "\u001b[1;31mAttributeError\u001b[0m: module 'cv2.cv2' has no attribute 'destroyAllWindow'"
     ]
    }
   ],
   "source": [
    "cv2.imshow(\"My Photo\", photo)\n",
    "cv2.waitKey()\n",
    "cv2.destroyAllWindow()"
   ]
  },
  {
   "cell_type": "code",
   "execution_count": null,
   "id": "be487aab",
   "metadata": {},
   "outputs": [],
   "source": []
  },
  {
   "cell_type": "code",
   "execution_count": null,
   "id": "b492d240",
   "metadata": {},
   "outputs": [],
   "source": []
  }
 ],
 "metadata": {
  "kernelspec": {
   "display_name": "Python 3",
   "language": "python",
   "name": "python3"
  },
  "language_info": {
   "codemirror_mode": {
    "name": "ipython",
    "version": 3
   },
   "file_extension": ".py",
   "mimetype": "text/x-python",
   "name": "python",
   "nbconvert_exporter": "python",
   "pygments_lexer": "ipython3",
   "version": "3.8.8"
  }
 },
 "nbformat": 4,
 "nbformat_minor": 5
}
