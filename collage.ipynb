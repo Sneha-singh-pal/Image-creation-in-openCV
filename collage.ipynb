{
 "cells": [
  {
   "cell_type": "code",
   "execution_count": 21,
   "id": "ad6491f8",
   "metadata": {},
   "outputs": [],
   "source": [
    "import cv2"
   ]
  },
  {
   "cell_type": "code",
   "execution_count": 22,
   "id": "87a79a6e",
   "metadata": {},
   "outputs": [],
   "source": [
    "image1=cv2.imread(\"image1.png\")"
   ]
  },
  {
   "cell_type": "code",
   "execution_count": 23,
   "id": "178f2720",
   "metadata": {},
   "outputs": [],
   "source": [
    "image2 = cv2.imread(\"image2.jpeg\")"
   ]
  },
  {
   "cell_type": "code",
   "execution_count": 24,
   "id": "09af5cd0",
   "metadata": {},
   "outputs": [],
   "source": [
    "image1 = image1[0:400,0:277]"
   ]
  },
  {
   "cell_type": "code",
   "execution_count": 25,
   "id": "61a69515",
   "metadata": {},
   "outputs": [
    {
     "data": {
      "text/plain": [
       "(400, 277, 3)"
      ]
     },
     "execution_count": 25,
     "metadata": {},
     "output_type": "execute_result"
    }
   ],
   "source": [
    "image1.shape"
   ]
  },
  {
   "cell_type": "code",
   "execution_count": 26,
   "id": "f1d8a445",
   "metadata": {},
   "outputs": [],
   "source": [
    "image2 = image2[0:400,0:300]"
   ]
  },
  {
   "cell_type": "code",
   "execution_count": 27,
   "id": "44543903",
   "metadata": {},
   "outputs": [
    {
     "data": {
      "text/plain": [
       "(400, 277, 3)"
      ]
     },
     "execution_count": 27,
     "metadata": {},
     "output_type": "execute_result"
    }
   ],
   "source": [
    "image2.shape"
   ]
  },
  {
   "cell_type": "code",
   "execution_count": 28,
   "id": "64d98efb",
   "metadata": {},
   "outputs": [],
   "source": [
    "\n",
    "import numpy as np \n",
    "image1_image2_hori = np.hstack((image1,image2))"
   ]
  },
  {
   "cell_type": "code",
   "execution_count": 29,
   "id": "f679e5d6",
   "metadata": {},
   "outputs": [],
   "source": [
    "\n",
    "cv2.imshow(\"Horizontal-Collage\",image1_image2_hori)\n",
    "cv2.waitKey()\n",
    "cv2.destroyAllWindows()"
   ]
  },
  {
   "cell_type": "code",
   "execution_count": 30,
   "id": "8cac014d",
   "metadata": {},
   "outputs": [],
   "source": [
    "image1_image2_ver = np.vstack((image1,image2))"
   ]
  },
  {
   "cell_type": "code",
   "execution_count": 31,
   "id": "0729bfc9",
   "metadata": {},
   "outputs": [],
   "source": [
    "\n",
    "cv2.imshow(\"Vertical-Collage\",image1_image2_ver)\n",
    "cv2.waitKey()\n",
    "cv2.destroyAllWindows()"
   ]
  },
  {
   "cell_type": "code",
   "execution_count": null,
   "id": "0beaf30b",
   "metadata": {},
   "outputs": [],
   "source": []
  }
 ],
 "metadata": {
  "kernelspec": {
   "display_name": "Python 3",
   "language": "python",
   "name": "python3"
  },
  "language_info": {
   "codemirror_mode": {
    "name": "ipython",
    "version": 3
   },
   "file_extension": ".py",
   "mimetype": "text/x-python",
   "name": "python",
   "nbconvert_exporter": "python",
   "pygments_lexer": "ipython3",
   "version": "3.8.8"
  }
 },
 "nbformat": 4,
 "nbformat_minor": 5
}
